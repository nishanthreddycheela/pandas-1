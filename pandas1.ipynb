{
 "cells": [
  {
   "cell_type": "markdown",
   "id": "c74fd71f-5f1b-4126-a562-2b014d0a6b7b",
   "metadata": {},
   "source": [
    "Pandas"
   ]
  },
  {
   "cell_type": "code",
   "execution_count": 10,
   "id": "0824ce04-b7d5-4192-b4da-416962fd5ab3",
   "metadata": {},
   "outputs": [],
   "source": [
    "import pandas as pd\n"
   ]
  },
  {
   "cell_type": "code",
   "execution_count": 26,
   "id": "eeb03bb6-6ed8-4a6e-99b7-25826821cf11",
   "metadata": {},
   "outputs": [
    {
     "name": "stdout",
     "output_type": "stream",
     "text": [
      "0    10\n",
      "1    20\n",
      "2    30\n",
      "3    40\n",
      "dtype: int64\n"
     ]
    }
   ],
   "source": [
    "data = [10,20,30,40]\n",
    "series = pd.Series(data)\n",
    "print(series)"
   ]
  },
  {
   "cell_type": "code",
   "execution_count": 28,
   "id": "b2d0ecf1-751f-4887-9e8c-0a5c1f6f4053",
   "metadata": {},
   "outputs": [
    {
     "name": "stdout",
     "output_type": "stream",
     "text": [
      "a    1\n",
      "b    2\n",
      "c    3\n",
      "d    4\n",
      "dtype: int64\n"
     ]
    }
   ],
   "source": [
    "data = [ 1,2,3,4]\n",
    "i = ['a','b','c','d']\n",
    "series = pd.Series(data, index=i)\n",
    "print(series)"
   ]
  },
  {
   "cell_type": "code",
   "execution_count": 30,
   "id": "ae667a61-1d02-40c6-b373-d5b26483aaa7",
   "metadata": {},
   "outputs": [
    {
     "name": "stdout",
     "output_type": "stream",
     "text": [
      "a    10\n",
      "b    20\n",
      "c    30\n",
      "dtype: int64\n"
     ]
    }
   ],
   "source": [
    "data = {'a':10, 'b':20, 'c':30}\n",
    "series = pd.Series(data)\n",
    "print(series)"
   ]
  },
  {
   "cell_type": "code",
   "execution_count": 32,
   "id": "fa4b4879-0bfa-420e-9b18-113bced89a62",
   "metadata": {},
   "outputs": [
    {
     "data": {
      "text/plain": [
       "a     10\n",
       "b    100\n",
       "c     30\n",
       "dtype: int64"
      ]
     },
     "execution_count": 32,
     "metadata": {},
     "output_type": "execute_result"
    }
   ],
   "source": [
    "series.replace(20,100)"
   ]
  },
  {
   "cell_type": "code",
   "execution_count": 34,
   "id": "6628f586-b658-440d-91da-f53681c32663",
   "metadata": {},
   "outputs": [
    {
     "name": "stdout",
     "output_type": "stream",
     "text": [
      "a    100\n",
      "b    200\n",
      "c    300\n",
      "dtype: int32\n"
     ]
    }
   ],
   "source": [
    "import numpy as np\n",
    "\n",
    "data = np.array([100,200,300])\n",
    "series = pd.Series(data, index=['a','b','c'])\n",
    "print(series)"
   ]
  },
  {
   "cell_type": "markdown",
   "id": "a890ff1e-133f-4428-8bd3-eff539b1683e",
   "metadata": {},
   "source": [
    "#pandas dataframe"
   ]
  },
  {
   "cell_type": "code",
   "execution_count": 37,
   "id": "5d83db89-1034-4c4e-af7a-1a06433b323a",
   "metadata": {},
   "outputs": [
    {
     "name": "stdout",
     "output_type": "stream",
     "text": [
      "    name  age country\n",
      "0  alice   25     usa\n",
      "1    bob   30      uk\n",
      "2   mary   34     aus\n"
     ]
    }
   ],
   "source": [
    "import pandas as pd\n",
    "data = {\"name\":['alice','bob','mary'],'age': [25,30,34],'country':[\"usa\",\"uk\",\"aus\"]}\n",
    "df = pd.DataFrame(data)\n",
    "print(df)"
   ]
  },
  {
   "cell_type": "code",
   "execution_count": 41,
   "id": "623993e2-a69b-457b-8929-6fe9370e1aea",
   "metadata": {},
   "outputs": [
    {
     "name": "stdout",
     "output_type": "stream",
     "text": [
      "[[1 2 3]\n",
      " [4 5 6]\n",
      " [7 8 9]]\n",
      "   a  b  c\n",
      "0  1  2  3\n",
      "1  4  5  6\n",
      "2  7  8  9\n"
     ]
    }
   ],
   "source": [
    "import numpy as np\n",
    "array = np.array([[1,2,3],[4,5,6],[7,8,9]])\n",
    "print(array)\n",
    "df = pd.DataFrame(array, columns=['a','b','c'])\n",
    "print(df)"
   ]
  },
  {
   "cell_type": "code",
   "execution_count": 43,
   "id": "720e0d44-a2e7-4805-b540-614995d700fb",
   "metadata": {},
   "outputs": [
    {
     "name": "stdout",
     "output_type": "stream",
     "text": [
      "[[1, 'Alice', 25], [2, 'BOb', 30], [3, 'marry', 34]]\n",
      "   id   name  age\n",
      "0   1  Alice   25\n",
      "1   2    BOb   30\n",
      "2   3  marry   34\n"
     ]
    }
   ],
   "source": [
    "data = [[1,\"Alice\",25],[2,\"BOb\",30],[3,'marry',34]]\n",
    "print(data)\n",
    "df = pd.DataFrame(data, columns=['id','name','age'])\n",
    "print(df)"
   ]
  },
  {
   "cell_type": "code",
   "execution_count": 3,
   "id": "a1d9a94a-21bb-48ad-bc22-02f48104d0e6",
   "metadata": {},
   "outputs": [
    {
     "name": "stdout",
     "output_type": "stream",
     "text": [
      "[[1, 'Alice', 25], [2, 'BOb', 30], [3, 'marry', 34]]\n",
      "   id   name  age\n",
      "0   1  Alice   25\n",
      "1   2    BOb   30\n",
      "2   3  marry   34\n"
     ]
    }
   ],
   "source": [
    "import pandas as pd\n",
    "data = [[1,\"Alice\",25],[2,\"BOb\",30],[3,'marry',34]]\n",
    "print(data)\n",
    "df = pd.DataFrame(data, columns=['id','name','age'])\n",
    "print(df)"
   ]
  },
  {
   "cell_type": "code",
   "execution_count": 19,
   "id": "b0cc8483-99d8-4c20-a47d-1bc88a68b144",
   "metadata": {},
   "outputs": [
    {
     "name": "stdout",
     "output_type": "stream",
     "text": [
      "     sepal.length  sepal.width  petal.length  petal.width    variety\n",
      "0             5.1          3.5           1.4          0.2     Setosa\n",
      "1             4.9          3.0           1.4          0.2     Setosa\n",
      "2             4.7          3.2           1.3          0.2     Setosa\n",
      "3             4.6          3.1           1.5          0.2     Setosa\n",
      "4             5.0          3.6           1.4          0.2     Setosa\n",
      "..            ...          ...           ...          ...        ...\n",
      "145           6.7          3.0           5.2          2.3  Virginica\n",
      "146           6.3          2.5           5.0          1.9  Virginica\n",
      "147           6.5          3.0           5.2          2.0  Virginica\n",
      "148           6.2          3.4           5.4          2.3  Virginica\n",
      "149           5.9          3.0           5.1          1.8  Virginica\n",
      "\n",
      "[150 rows x 5 columns]\n"
     ]
    }
   ],
   "source": [
    "import pandas as pd\n",
    "iris_df = pd.read_csv(\"iris.csv\")\n",
    "print(iris_df)"
   ]
  },
  {
   "cell_type": "code",
   "execution_count": 21,
   "id": "b6882b20-6caf-4dbb-8862-d09760a880a1",
   "metadata": {},
   "outputs": [
    {
     "name": "stdout",
     "output_type": "stream",
     "text": [
      "<class 'pandas.core.frame.DataFrame'>\n",
      "RangeIndex: 150 entries, 0 to 149\n",
      "Data columns (total 5 columns):\n",
      " #   Column        Non-Null Count  Dtype  \n",
      "---  ------        --------------  -----  \n",
      " 0   sepal.length  150 non-null    float64\n",
      " 1   sepal.width   150 non-null    float64\n",
      " 2   petal.length  150 non-null    float64\n",
      " 3   petal.width   150 non-null    float64\n",
      " 4   variety       150 non-null    object \n",
      "dtypes: float64(4), object(1)\n",
      "memory usage: 6.0+ KB\n"
     ]
    }
   ],
   "source": [
    "iris_df.info()"
   ]
  },
  {
   "cell_type": "code",
   "execution_count": 27,
   "id": "2873b7ef-d758-4fe8-84ca-166340546119",
   "metadata": {},
   "outputs": [
    {
     "name": "stdout",
     "output_type": "stream",
     "text": [
      "     sepal.length  sepal.width  petal.length  petal.width    variety\n",
      "0             5.1          3.5           1.4          0.2     Setosa\n",
      "1             4.9          3.0           1.4          0.2     Setosa\n",
      "2             4.7          3.2           1.3          0.2     Setosa\n",
      "3             4.6          3.1           1.5          0.2     Setosa\n",
      "4             5.0          3.6           1.4          0.2     Setosa\n",
      "..            ...          ...           ...          ...        ...\n",
      "145           6.7          3.0           5.2          2.3  Virginica\n",
      "146           6.3          2.5           5.0          1.9  Virginica\n",
      "147           6.5          3.0           5.2          2.0  Virginica\n",
      "148           6.2          3.4           5.4          2.3  Virginica\n",
      "149           5.9          3.0           5.1          1.8  Virginica\n",
      "\n",
      "[150 rows x 5 columns]\n"
     ]
    }
   ],
   "source": [
    "iris_df = pd.read_excel(\"iris.xlsx\")\n",
    "print(iris_df)"
   ]
  },
  {
   "cell_type": "code",
   "execution_count": 29,
   "id": "030c8a84-3dfa-40ba-b0b4-dce29c39e173",
   "metadata": {},
   "outputs": [
    {
     "name": "stdout",
     "output_type": "stream",
     "text": [
      "<class 'pandas.core.frame.DataFrame'>\n",
      "RangeIndex: 150 entries, 0 to 149\n",
      "Data columns (total 5 columns):\n",
      " #   Column        Non-Null Count  Dtype  \n",
      "---  ------        --------------  -----  \n",
      " 0   sepal.length  150 non-null    float64\n",
      " 1   sepal.width   150 non-null    float64\n",
      " 2   petal.length  150 non-null    float64\n",
      " 3   petal.width   150 non-null    float64\n",
      " 4   variety       150 non-null    object \n",
      "dtypes: float64(4), object(1)\n",
      "memory usage: 6.0+ KB\n"
     ]
    }
   ],
   "source": [
    "iris_df.info()"
   ]
  },
  {
   "cell_type": "code",
   "execution_count": 25,
   "id": "d1ea11ba-5fbc-449f-83fa-31d4b8b4c230",
   "metadata": {},
   "outputs": [
    {
     "data": {
      "text/html": [
       "<div>\n",
       "<style scoped>\n",
       "    .dataframe tbody tr th:only-of-type {\n",
       "        vertical-align: middle;\n",
       "    }\n",
       "\n",
       "    .dataframe tbody tr th {\n",
       "        vertical-align: top;\n",
       "    }\n",
       "\n",
       "    .dataframe thead th {\n",
       "        text-align: right;\n",
       "    }\n",
       "</style>\n",
       "<table border=\"1\" class=\"dataframe\">\n",
       "  <thead>\n",
       "    <tr style=\"text-align: right;\">\n",
       "      <th></th>\n",
       "      <th>sepal.length</th>\n",
       "      <th>sepal.width</th>\n",
       "      <th>petal.length</th>\n",
       "      <th>petal.width</th>\n",
       "    </tr>\n",
       "  </thead>\n",
       "  <tbody>\n",
       "    <tr>\n",
       "      <th>count</th>\n",
       "      <td>150.000000</td>\n",
       "      <td>150.000000</td>\n",
       "      <td>150.000000</td>\n",
       "      <td>150.000000</td>\n",
       "    </tr>\n",
       "    <tr>\n",
       "      <th>mean</th>\n",
       "      <td>5.843333</td>\n",
       "      <td>3.057333</td>\n",
       "      <td>3.758000</td>\n",
       "      <td>1.199333</td>\n",
       "    </tr>\n",
       "    <tr>\n",
       "      <th>std</th>\n",
       "      <td>0.828066</td>\n",
       "      <td>0.435866</td>\n",
       "      <td>1.765298</td>\n",
       "      <td>0.762238</td>\n",
       "    </tr>\n",
       "    <tr>\n",
       "      <th>min</th>\n",
       "      <td>4.300000</td>\n",
       "      <td>2.000000</td>\n",
       "      <td>1.000000</td>\n",
       "      <td>0.100000</td>\n",
       "    </tr>\n",
       "    <tr>\n",
       "      <th>25%</th>\n",
       "      <td>5.100000</td>\n",
       "      <td>2.800000</td>\n",
       "      <td>1.600000</td>\n",
       "      <td>0.300000</td>\n",
       "    </tr>\n",
       "    <tr>\n",
       "      <th>50%</th>\n",
       "      <td>5.800000</td>\n",
       "      <td>3.000000</td>\n",
       "      <td>4.350000</td>\n",
       "      <td>1.300000</td>\n",
       "    </tr>\n",
       "    <tr>\n",
       "      <th>75%</th>\n",
       "      <td>6.400000</td>\n",
       "      <td>3.300000</td>\n",
       "      <td>5.100000</td>\n",
       "      <td>1.800000</td>\n",
       "    </tr>\n",
       "    <tr>\n",
       "      <th>max</th>\n",
       "      <td>7.900000</td>\n",
       "      <td>4.400000</td>\n",
       "      <td>6.900000</td>\n",
       "      <td>2.500000</td>\n",
       "    </tr>\n",
       "  </tbody>\n",
       "</table>\n",
       "</div>"
      ],
      "text/plain": [
       "       sepal.length  sepal.width  petal.length  petal.width\n",
       "count    150.000000   150.000000    150.000000   150.000000\n",
       "mean       5.843333     3.057333      3.758000     1.199333\n",
       "std        0.828066     0.435866      1.765298     0.762238\n",
       "min        4.300000     2.000000      1.000000     0.100000\n",
       "25%        5.100000     2.800000      1.600000     0.300000\n",
       "50%        5.800000     3.000000      4.350000     1.300000\n",
       "75%        6.400000     3.300000      5.100000     1.800000\n",
       "max        7.900000     4.400000      6.900000     2.500000"
      ]
     },
     "execution_count": 25,
     "metadata": {},
     "output_type": "execute_result"
    }
   ],
   "source": [
    "iris_df.describe()"
   ]
  },
  {
   "cell_type": "code",
   "execution_count": 31,
   "id": "7d591757-fa88-4774-adfc-2abee8415d74",
   "metadata": {},
   "outputs": [
    {
     "name": "stdout",
     "output_type": "stream",
     "text": [
      "(150, 5)\n",
      "2\n",
      "750\n"
     ]
    }
   ],
   "source": [
    "print(iris_df.shape)\n",
    "print(iris_df.ndim)\n",
    "print(iris_df.size)"
   ]
  },
  {
   "cell_type": "code",
   "execution_count": 33,
   "id": "f21fcc9c-7077-4612-969e-edcf6b9dd9e8",
   "metadata": {},
   "outputs": [
    {
     "data": {
      "text/html": [
       "<div>\n",
       "<style scoped>\n",
       "    .dataframe tbody tr th:only-of-type {\n",
       "        vertical-align: middle;\n",
       "    }\n",
       "\n",
       "    .dataframe tbody tr th {\n",
       "        vertical-align: top;\n",
       "    }\n",
       "\n",
       "    .dataframe thead th {\n",
       "        text-align: right;\n",
       "    }\n",
       "</style>\n",
       "<table border=\"1\" class=\"dataframe\">\n",
       "  <thead>\n",
       "    <tr style=\"text-align: right;\">\n",
       "      <th></th>\n",
       "      <th>sepal.length</th>\n",
       "      <th>sepal.width</th>\n",
       "      <th>petal.length</th>\n",
       "      <th>petal.width</th>\n",
       "      <th>variety</th>\n",
       "    </tr>\n",
       "  </thead>\n",
       "  <tbody>\n",
       "    <tr>\n",
       "      <th>10</th>\n",
       "      <td>5.4</td>\n",
       "      <td>3.7</td>\n",
       "      <td>1.5</td>\n",
       "      <td>0.2</td>\n",
       "      <td>Setosa</td>\n",
       "    </tr>\n",
       "    <tr>\n",
       "      <th>11</th>\n",
       "      <td>4.8</td>\n",
       "      <td>3.4</td>\n",
       "      <td>1.6</td>\n",
       "      <td>0.2</td>\n",
       "      <td>Setosa</td>\n",
       "    </tr>\n",
       "    <tr>\n",
       "      <th>12</th>\n",
       "      <td>4.8</td>\n",
       "      <td>3.0</td>\n",
       "      <td>1.4</td>\n",
       "      <td>0.1</td>\n",
       "      <td>Setosa</td>\n",
       "    </tr>\n",
       "    <tr>\n",
       "      <th>13</th>\n",
       "      <td>4.3</td>\n",
       "      <td>3.0</td>\n",
       "      <td>1.1</td>\n",
       "      <td>0.1</td>\n",
       "      <td>Setosa</td>\n",
       "    </tr>\n",
       "    <tr>\n",
       "      <th>14</th>\n",
       "      <td>5.8</td>\n",
       "      <td>4.0</td>\n",
       "      <td>1.2</td>\n",
       "      <td>0.2</td>\n",
       "      <td>Setosa</td>\n",
       "    </tr>\n",
       "    <tr>\n",
       "      <th>15</th>\n",
       "      <td>5.7</td>\n",
       "      <td>4.4</td>\n",
       "      <td>1.5</td>\n",
       "      <td>0.4</td>\n",
       "      <td>Setosa</td>\n",
       "    </tr>\n",
       "    <tr>\n",
       "      <th>16</th>\n",
       "      <td>5.4</td>\n",
       "      <td>3.9</td>\n",
       "      <td>1.3</td>\n",
       "      <td>0.4</td>\n",
       "      <td>Setosa</td>\n",
       "    </tr>\n",
       "    <tr>\n",
       "      <th>17</th>\n",
       "      <td>5.1</td>\n",
       "      <td>3.5</td>\n",
       "      <td>1.4</td>\n",
       "      <td>0.3</td>\n",
       "      <td>Setosa</td>\n",
       "    </tr>\n",
       "    <tr>\n",
       "      <th>18</th>\n",
       "      <td>5.7</td>\n",
       "      <td>3.8</td>\n",
       "      <td>1.7</td>\n",
       "      <td>0.3</td>\n",
       "      <td>Setosa</td>\n",
       "    </tr>\n",
       "    <tr>\n",
       "      <th>19</th>\n",
       "      <td>5.1</td>\n",
       "      <td>3.8</td>\n",
       "      <td>1.5</td>\n",
       "      <td>0.3</td>\n",
       "      <td>Setosa</td>\n",
       "    </tr>\n",
       "    <tr>\n",
       "      <th>20</th>\n",
       "      <td>5.4</td>\n",
       "      <td>3.4</td>\n",
       "      <td>1.7</td>\n",
       "      <td>0.2</td>\n",
       "      <td>Setosa</td>\n",
       "    </tr>\n",
       "  </tbody>\n",
       "</table>\n",
       "</div>"
      ],
      "text/plain": [
       "    sepal.length  sepal.width  petal.length  petal.width variety\n",
       "10           5.4          3.7           1.5          0.2  Setosa\n",
       "11           4.8          3.4           1.6          0.2  Setosa\n",
       "12           4.8          3.0           1.4          0.1  Setosa\n",
       "13           4.3          3.0           1.1          0.1  Setosa\n",
       "14           5.8          4.0           1.2          0.2  Setosa\n",
       "15           5.7          4.4           1.5          0.4  Setosa\n",
       "16           5.4          3.9           1.3          0.4  Setosa\n",
       "17           5.1          3.5           1.4          0.3  Setosa\n",
       "18           5.7          3.8           1.7          0.3  Setosa\n",
       "19           5.1          3.8           1.5          0.3  Setosa\n",
       "20           5.4          3.4           1.7          0.2  Setosa"
      ]
     },
     "execution_count": 33,
     "metadata": {},
     "output_type": "execute_result"
    }
   ],
   "source": [
    "iris_df.iloc[10:21,:]"
   ]
  },
  {
   "cell_type": "code",
   "execution_count": 37,
   "id": "6e15f31e-eb02-4905-a013-6f29de504704",
   "metadata": {},
   "outputs": [
    {
     "data": {
      "text/plain": [
       "array([[5.1, 3.5, 1.4, 0.2, 'Setosa'],\n",
       "       [4.9, 3.0, 1.4, 0.2, 'Setosa'],\n",
       "       [4.7, 3.2, 1.3, 0.2, 'Setosa'],\n",
       "       [4.6, 3.1, 1.5, 0.2, 'Setosa'],\n",
       "       [5.0, 3.6, 1.4, 0.2, 'Setosa'],\n",
       "       [5.4, 3.9, 1.7, 0.4, 'Setosa'],\n",
       "       [4.6, 3.4, 1.4, 0.3, 'Setosa'],\n",
       "       [5.0, 3.4, 1.5, 0.2, 'Setosa'],\n",
       "       [4.4, 2.9, 1.4, 0.2, 'Setosa'],\n",
       "       [4.9, 3.1, 1.5, 0.1, 'Setosa'],\n",
       "       [5.4, 3.7, 1.5, 0.2, 'Setosa'],\n",
       "       [4.8, 3.4, 1.6, 0.2, 'Setosa'],\n",
       "       [4.8, 3.0, 1.4, 0.1, 'Setosa'],\n",
       "       [4.3, 3.0, 1.1, 0.1, 'Setosa'],\n",
       "       [5.8, 4.0, 1.2, 0.2, 'Setosa'],\n",
       "       [5.7, 4.4, 1.5, 0.4, 'Setosa'],\n",
       "       [5.4, 3.9, 1.3, 0.4, 'Setosa'],\n",
       "       [5.1, 3.5, 1.4, 0.3, 'Setosa'],\n",
       "       [5.7, 3.8, 1.7, 0.3, 'Setosa'],\n",
       "       [5.1, 3.8, 1.5, 0.3, 'Setosa'],\n",
       "       [5.4, 3.4, 1.7, 0.2, 'Setosa'],\n",
       "       [5.1, 3.7, 1.5, 0.4, 'Setosa'],\n",
       "       [4.6, 3.6, 1.0, 0.2, 'Setosa'],\n",
       "       [5.1, 3.3, 1.7, 0.5, 'Setosa'],\n",
       "       [4.8, 3.4, 1.9, 0.2, 'Setosa'],\n",
       "       [5.0, 3.0, 1.6, 0.2, 'Setosa'],\n",
       "       [5.0, 3.4, 1.6, 0.4, 'Setosa'],\n",
       "       [5.2, 3.5, 1.5, 0.2, 'Setosa'],\n",
       "       [5.2, 3.4, 1.4, 0.2, 'Setosa'],\n",
       "       [4.7, 3.2, 1.6, 0.2, 'Setosa'],\n",
       "       [4.8, 3.1, 1.6, 0.2, 'Setosa'],\n",
       "       [5.4, 3.4, 1.5, 0.4, 'Setosa'],\n",
       "       [5.2, 4.1, 1.5, 0.1, 'Setosa'],\n",
       "       [5.5, 4.2, 1.4, 0.2, 'Setosa'],\n",
       "       [4.9, 3.1, 1.5, 0.2, 'Setosa'],\n",
       "       [5.0, 3.2, 1.2, 0.2, 'Setosa'],\n",
       "       [5.5, 3.5, 1.3, 0.2, 'Setosa'],\n",
       "       [4.9, 3.6, 1.4, 0.1, 'Setosa'],\n",
       "       [4.4, 3.0, 1.3, 0.2, 'Setosa'],\n",
       "       [5.1, 3.4, 1.5, 0.2, 'Setosa'],\n",
       "       [5.0, 3.5, 1.3, 0.3, 'Setosa'],\n",
       "       [4.5, 2.3, 1.3, 0.3, 'Setosa'],\n",
       "       [4.4, 3.2, 1.3, 0.2, 'Setosa'],\n",
       "       [5.0, 3.5, 1.6, 0.6, 'Setosa'],\n",
       "       [5.1, 3.8, 1.9, 0.4, 'Setosa'],\n",
       "       [4.8, 3.0, 1.4, 0.3, 'Setosa'],\n",
       "       [5.1, 3.8, 1.6, 0.2, 'Setosa'],\n",
       "       [4.6, 3.2, 1.4, 0.2, 'Setosa'],\n",
       "       [5.3, 3.7, 1.5, 0.2, 'Setosa'],\n",
       "       [5.0, 3.3, 1.4, 0.2, 'Setosa'],\n",
       "       [7.0, 3.2, 4.7, 1.4, 'Versicolor'],\n",
       "       [6.4, 3.2, 4.5, 1.5, 'Versicolor'],\n",
       "       [6.9, 3.1, 4.9, 1.5, 'Versicolor'],\n",
       "       [5.5, 2.3, 4.0, 1.3, 'Versicolor'],\n",
       "       [6.5, 2.8, 4.6, 1.5, 'Versicolor'],\n",
       "       [5.7, 2.8, 4.5, 1.3, 'Versicolor'],\n",
       "       [6.3, 3.3, 4.7, 1.6, 'Versicolor'],\n",
       "       [4.9, 2.4, 3.3, 1.0, 'Versicolor'],\n",
       "       [6.6, 2.9, 4.6, 1.3, 'Versicolor'],\n",
       "       [5.2, 2.7, 3.9, 1.4, 'Versicolor'],\n",
       "       [5.0, 2.0, 3.5, 1.0, 'Versicolor'],\n",
       "       [5.9, 3.0, 4.2, 1.5, 'Versicolor'],\n",
       "       [6.0, 2.2, 4.0, 1.0, 'Versicolor'],\n",
       "       [6.1, 2.9, 4.7, 1.4, 'Versicolor'],\n",
       "       [5.6, 2.9, 3.6, 1.3, 'Versicolor'],\n",
       "       [6.7, 3.1, 4.4, 1.4, 'Versicolor'],\n",
       "       [5.6, 3.0, 4.5, 1.5, 'Versicolor'],\n",
       "       [5.8, 2.7, 4.1, 1.0, 'Versicolor'],\n",
       "       [6.2, 2.2, 4.5, 1.5, 'Versicolor'],\n",
       "       [5.6, 2.5, 3.9, 1.1, 'Versicolor'],\n",
       "       [5.9, 3.2, 4.8, 1.8, 'Versicolor'],\n",
       "       [6.1, 2.8, 4.0, 1.3, 'Versicolor'],\n",
       "       [6.3, 2.5, 4.9, 1.5, 'Versicolor'],\n",
       "       [6.1, 2.8, 4.7, 1.2, 'Versicolor'],\n",
       "       [6.4, 2.9, 4.3, 1.3, 'Versicolor'],\n",
       "       [6.6, 3.0, 4.4, 1.4, 'Versicolor'],\n",
       "       [6.8, 2.8, 4.8, 1.4, 'Versicolor'],\n",
       "       [6.7, 3.0, 5.0, 1.7, 'Versicolor'],\n",
       "       [6.0, 2.9, 4.5, 1.5, 'Versicolor'],\n",
       "       [5.7, 2.6, 3.5, 1.0, 'Versicolor'],\n",
       "       [5.5, 2.4, 3.8, 1.1, 'Versicolor'],\n",
       "       [5.5, 2.4, 3.7, 1.0, 'Versicolor'],\n",
       "       [5.8, 2.7, 3.9, 1.2, 'Versicolor'],\n",
       "       [6.0, 2.7, 5.1, 1.6, 'Versicolor'],\n",
       "       [5.4, 3.0, 4.5, 1.5, 'Versicolor'],\n",
       "       [6.0, 3.4, 4.5, 1.6, 'Versicolor'],\n",
       "       [6.7, 3.1, 4.7, 1.5, 'Versicolor'],\n",
       "       [6.3, 2.3, 4.4, 1.3, 'Versicolor'],\n",
       "       [5.6, 3.0, 4.1, 1.3, 'Versicolor'],\n",
       "       [5.5, 2.5, 4.0, 1.3, 'Versicolor'],\n",
       "       [5.5, 2.6, 4.4, 1.2, 'Versicolor'],\n",
       "       [6.1, 3.0, 4.6, 1.4, 'Versicolor'],\n",
       "       [5.8, 2.6, 4.0, 1.2, 'Versicolor'],\n",
       "       [5.0, 2.3, 3.3, 1.0, 'Versicolor'],\n",
       "       [5.6, 2.7, 4.2, 1.3, 'Versicolor'],\n",
       "       [5.7, 3.0, 4.2, 1.2, 'Versicolor'],\n",
       "       [5.7, 2.9, 4.2, 1.3, 'Versicolor'],\n",
       "       [6.2, 2.9, 4.3, 1.3, 'Versicolor'],\n",
       "       [5.1, 2.5, 3.0, 1.1, 'Versicolor'],\n",
       "       [5.7, 2.8, 4.1, 1.3, 'Versicolor'],\n",
       "       [6.3, 3.3, 6.0, 2.5, 'Virginica'],\n",
       "       [5.8, 2.7, 5.1, 1.9, 'Virginica'],\n",
       "       [7.1, 3.0, 5.9, 2.1, 'Virginica'],\n",
       "       [6.3, 2.9, 5.6, 1.8, 'Virginica'],\n",
       "       [6.5, 3.0, 5.8, 2.2, 'Virginica'],\n",
       "       [7.6, 3.0, 6.6, 2.1, 'Virginica'],\n",
       "       [4.9, 2.5, 4.5, 1.7, 'Virginica'],\n",
       "       [7.3, 2.9, 6.3, 1.8, 'Virginica'],\n",
       "       [6.7, 2.5, 5.8, 1.8, 'Virginica'],\n",
       "       [7.2, 3.6, 6.1, 2.5, 'Virginica'],\n",
       "       [6.5, 3.2, 5.1, 2.0, 'Virginica'],\n",
       "       [6.4, 2.7, 5.3, 1.9, 'Virginica'],\n",
       "       [6.8, 3.0, 5.5, 2.1, 'Virginica'],\n",
       "       [5.7, 2.5, 5.0, 2.0, 'Virginica'],\n",
       "       [5.8, 2.8, 5.1, 2.4, 'Virginica'],\n",
       "       [6.4, 3.2, 5.3, 2.3, 'Virginica'],\n",
       "       [6.5, 3.0, 5.5, 1.8, 'Virginica'],\n",
       "       [7.7, 3.8, 6.7, 2.2, 'Virginica'],\n",
       "       [7.7, 2.6, 6.9, 2.3, 'Virginica'],\n",
       "       [6.0, 2.2, 5.0, 1.5, 'Virginica'],\n",
       "       [6.9, 3.2, 5.7, 2.3, 'Virginica'],\n",
       "       [5.6, 2.8, 4.9, 2.0, 'Virginica'],\n",
       "       [7.7, 2.8, 6.7, 2.0, 'Virginica'],\n",
       "       [6.3, 2.7, 4.9, 1.8, 'Virginica'],\n",
       "       [6.7, 3.3, 5.7, 2.1, 'Virginica'],\n",
       "       [7.2, 3.2, 6.0, 1.8, 'Virginica'],\n",
       "       [6.2, 2.8, 4.8, 1.8, 'Virginica'],\n",
       "       [6.1, 3.0, 4.9, 1.8, 'Virginica'],\n",
       "       [6.4, 2.8, 5.6, 2.1, 'Virginica'],\n",
       "       [7.2, 3.0, 5.8, 1.6, 'Virginica'],\n",
       "       [7.4, 2.8, 6.1, 1.9, 'Virginica'],\n",
       "       [7.9, 3.8, 6.4, 2.0, 'Virginica'],\n",
       "       [6.4, 2.8, 5.6, 2.2, 'Virginica'],\n",
       "       [6.3, 2.8, 5.1, 1.5, 'Virginica'],\n",
       "       [6.1, 2.6, 5.6, 1.4, 'Virginica'],\n",
       "       [7.7, 3.0, 6.1, 2.3, 'Virginica'],\n",
       "       [6.3, 3.4, 5.6, 2.4, 'Virginica'],\n",
       "       [6.4, 3.1, 5.5, 1.8, 'Virginica'],\n",
       "       [6.0, 3.0, 4.8, 1.8, 'Virginica'],\n",
       "       [6.9, 3.1, 5.4, 2.1, 'Virginica'],\n",
       "       [6.7, 3.1, 5.6, 2.4, 'Virginica'],\n",
       "       [6.9, 3.1, 5.1, 2.3, 'Virginica'],\n",
       "       [5.8, 2.7, 5.1, 1.9, 'Virginica'],\n",
       "       [6.8, 3.2, 5.9, 2.3, 'Virginica'],\n",
       "       [6.7, 3.3, 5.7, 2.5, 'Virginica'],\n",
       "       [6.7, 3.0, 5.2, 2.3, 'Virginica'],\n",
       "       [6.3, 2.5, 5.0, 1.9, 'Virginica'],\n",
       "       [6.5, 3.0, 5.2, 2.0, 'Virginica'],\n",
       "       [6.2, 3.4, 5.4, 2.3, 'Virginica'],\n",
       "       [5.9, 3.0, 5.1, 1.8, 'Virginica']], dtype=object)"
      ]
     },
     "execution_count": 37,
     "metadata": {},
     "output_type": "execute_result"
    }
   ],
   "source": [
    "import numpy as np\n",
    "iris_array=np.array(iris_df)\n",
    "iris_array"
   ]
  },
  {
   "cell_type": "code",
   "execution_count": 47,
   "id": "fad8b9d9-ee9a-45a5-88af-33151bbbf420",
   "metadata": {},
   "outputs": [
    {
     "data": {
      "text/html": [
       "<div>\n",
       "<style scoped>\n",
       "    .dataframe tbody tr th:only-of-type {\n",
       "        vertical-align: middle;\n",
       "    }\n",
       "\n",
       "    .dataframe tbody tr th {\n",
       "        vertical-align: top;\n",
       "    }\n",
       "\n",
       "    .dataframe thead th {\n",
       "        text-align: right;\n",
       "    }\n",
       "</style>\n",
       "<table border=\"1\" class=\"dataframe\">\n",
       "  <thead>\n",
       "    <tr style=\"text-align: right;\">\n",
       "      <th></th>\n",
       "      <th>sepal.length</th>\n",
       "      <th>petal.width</th>\n",
       "    </tr>\n",
       "  </thead>\n",
       "  <tbody>\n",
       "    <tr>\n",
       "      <th>0</th>\n",
       "      <td>5.1</td>\n",
       "      <td>0.2</td>\n",
       "    </tr>\n",
       "    <tr>\n",
       "      <th>1</th>\n",
       "      <td>4.9</td>\n",
       "      <td>0.2</td>\n",
       "    </tr>\n",
       "    <tr>\n",
       "      <th>2</th>\n",
       "      <td>4.7</td>\n",
       "      <td>0.2</td>\n",
       "    </tr>\n",
       "    <tr>\n",
       "      <th>3</th>\n",
       "      <td>4.6</td>\n",
       "      <td>0.2</td>\n",
       "    </tr>\n",
       "    <tr>\n",
       "      <th>4</th>\n",
       "      <td>5.0</td>\n",
       "      <td>0.2</td>\n",
       "    </tr>\n",
       "    <tr>\n",
       "      <th>...</th>\n",
       "      <td>...</td>\n",
       "      <td>...</td>\n",
       "    </tr>\n",
       "    <tr>\n",
       "      <th>145</th>\n",
       "      <td>6.7</td>\n",
       "      <td>2.3</td>\n",
       "    </tr>\n",
       "    <tr>\n",
       "      <th>146</th>\n",
       "      <td>6.3</td>\n",
       "      <td>1.9</td>\n",
       "    </tr>\n",
       "    <tr>\n",
       "      <th>147</th>\n",
       "      <td>6.5</td>\n",
       "      <td>2.0</td>\n",
       "    </tr>\n",
       "    <tr>\n",
       "      <th>148</th>\n",
       "      <td>6.2</td>\n",
       "      <td>2.3</td>\n",
       "    </tr>\n",
       "    <tr>\n",
       "      <th>149</th>\n",
       "      <td>5.9</td>\n",
       "      <td>1.8</td>\n",
       "    </tr>\n",
       "  </tbody>\n",
       "</table>\n",
       "<p>150 rows × 2 columns</p>\n",
       "</div>"
      ],
      "text/plain": [
       "     sepal.length  petal.width\n",
       "0             5.1          0.2\n",
       "1             4.9          0.2\n",
       "2             4.7          0.2\n",
       "3             4.6          0.2\n",
       "4             5.0          0.2\n",
       "..            ...          ...\n",
       "145           6.7          2.3\n",
       "146           6.3          1.9\n",
       "147           6.5          2.0\n",
       "148           6.2          2.3\n",
       "149           5.9          1.8\n",
       "\n",
       "[150 rows x 2 columns]"
      ]
     },
     "execution_count": 47,
     "metadata": {},
     "output_type": "execute_result"
    }
   ],
   "source": [
    "iris_df[[\"sepal.length\", \"petal.width\"]]"
   ]
  },
  {
   "cell_type": "code",
   "execution_count": 53,
   "id": "cc877eb5-9ba3-437b-9970-7e628448ba06",
   "metadata": {},
   "outputs": [
    {
     "data": {
      "text/html": [
       "<div>\n",
       "<style scoped>\n",
       "    .dataframe tbody tr th:only-of-type {\n",
       "        vertical-align: middle;\n",
       "    }\n",
       "\n",
       "    .dataframe tbody tr th {\n",
       "        vertical-align: top;\n",
       "    }\n",
       "\n",
       "    .dataframe thead th {\n",
       "        text-align: right;\n",
       "    }\n",
       "</style>\n",
       "<table border=\"1\" class=\"dataframe\">\n",
       "  <thead>\n",
       "    <tr style=\"text-align: right;\">\n",
       "      <th></th>\n",
       "      <th>weight</th>\n",
       "      <th>height</th>\n",
       "    </tr>\n",
       "  </thead>\n",
       "  <tbody>\n",
       "    <tr>\n",
       "      <th>0</th>\n",
       "      <td>66</td>\n",
       "      <td>156</td>\n",
       "    </tr>\n",
       "    <tr>\n",
       "      <th>1</th>\n",
       "      <td>75</td>\n",
       "      <td>165</td>\n",
       "    </tr>\n",
       "    <tr>\n",
       "      <th>2</th>\n",
       "      <td>84</td>\n",
       "      <td>186</td>\n",
       "    </tr>\n",
       "    <tr>\n",
       "      <th>3</th>\n",
       "      <td>96</td>\n",
       "      <td>165</td>\n",
       "    </tr>\n",
       "    <tr>\n",
       "      <th>4</th>\n",
       "      <td>48</td>\n",
       "      <td>174</td>\n",
       "    </tr>\n",
       "    <tr>\n",
       "      <th>5</th>\n",
       "      <td>71</td>\n",
       "      <td>167</td>\n",
       "    </tr>\n",
       "  </tbody>\n",
       "</table>\n",
       "</div>"
      ],
      "text/plain": [
       "   weight  height\n",
       "0      66     156\n",
       "1      75     165\n",
       "2      84     186\n",
       "3      96     165\n",
       "4      48     174\n",
       "5      71     167"
      ]
     },
     "execution_count": 53,
     "metadata": {},
     "output_type": "execute_result"
    }
   ],
   "source": [
    "data = {\"weight\":[66,75,84,96,48,71], \\\n",
    "        \"height\":[156,165,186,165,174,167]}\n",
    "bmi = pd.DataFrame(data)\n",
    "bmi"
   ]
  },
  {
   "cell_type": "code",
   "execution_count": 59,
   "id": "a2b948f7-ea66-450b-991f-4915bf5efea8",
   "metadata": {},
   "outputs": [
    {
     "data": {
      "text/html": [
       "<div>\n",
       "<style scoped>\n",
       "    .dataframe tbody tr th:only-of-type {\n",
       "        vertical-align: middle;\n",
       "    }\n",
       "\n",
       "    .dataframe tbody tr th {\n",
       "        vertical-align: top;\n",
       "    }\n",
       "\n",
       "    .dataframe thead th {\n",
       "        text-align: right;\n",
       "    }\n",
       "</style>\n",
       "<table border=\"1\" class=\"dataframe\">\n",
       "  <thead>\n",
       "    <tr style=\"text-align: right;\">\n",
       "      <th></th>\n",
       "      <th>weight</th>\n",
       "      <th>height</th>\n",
       "      <th>BMI</th>\n",
       "    </tr>\n",
       "  </thead>\n",
       "  <tbody>\n",
       "    <tr>\n",
       "      <th>0</th>\n",
       "      <td>66</td>\n",
       "      <td>156</td>\n",
       "      <td>27.120316</td>\n",
       "    </tr>\n",
       "    <tr>\n",
       "      <th>1</th>\n",
       "      <td>75</td>\n",
       "      <td>165</td>\n",
       "      <td>27.548209</td>\n",
       "    </tr>\n",
       "    <tr>\n",
       "      <th>2</th>\n",
       "      <td>84</td>\n",
       "      <td>186</td>\n",
       "      <td>24.280264</td>\n",
       "    </tr>\n",
       "    <tr>\n",
       "      <th>3</th>\n",
       "      <td>96</td>\n",
       "      <td>165</td>\n",
       "      <td>35.261708</td>\n",
       "    </tr>\n",
       "    <tr>\n",
       "      <th>4</th>\n",
       "      <td>48</td>\n",
       "      <td>174</td>\n",
       "      <td>15.854142</td>\n",
       "    </tr>\n",
       "    <tr>\n",
       "      <th>5</th>\n",
       "      <td>71</td>\n",
       "      <td>167</td>\n",
       "      <td>25.458066</td>\n",
       "    </tr>\n",
       "  </tbody>\n",
       "</table>\n",
       "</div>"
      ],
      "text/plain": [
       "   weight  height        BMI\n",
       "0      66     156  27.120316\n",
       "1      75     165  27.548209\n",
       "2      84     186  24.280264\n",
       "3      96     165  35.261708\n",
       "4      48     174  15.854142\n",
       "5      71     167  25.458066"
      ]
     },
     "execution_count": 59,
     "metadata": {},
     "output_type": "execute_result"
    }
   ],
   "source": [
    "#create bmi column\n",
    "bmi['BMI']=bmi['weight']/(bmi['height']/100)**2\n",
    "bmi"
   ]
  },
  {
   "cell_type": "code",
   "execution_count": 61,
   "id": "06697bf3-79c1-4f67-b74c-d85830900f25",
   "metadata": {},
   "outputs": [
    {
     "data": {
      "text/html": [
       "<div>\n",
       "<style scoped>\n",
       "    .dataframe tbody tr th:only-of-type {\n",
       "        vertical-align: middle;\n",
       "    }\n",
       "\n",
       "    .dataframe tbody tr th {\n",
       "        vertical-align: top;\n",
       "    }\n",
       "\n",
       "    .dataframe thead th {\n",
       "        text-align: right;\n",
       "    }\n",
       "</style>\n",
       "<table border=\"1\" class=\"dataframe\">\n",
       "  <thead>\n",
       "    <tr style=\"text-align: right;\">\n",
       "      <th></th>\n",
       "      <th>weight</th>\n",
       "      <th>height</th>\n",
       "      <th>BMI</th>\n",
       "    </tr>\n",
       "  </thead>\n",
       "  <tbody>\n",
       "    <tr>\n",
       "      <th>0</th>\n",
       "      <td>66</td>\n",
       "      <td>156.0</td>\n",
       "      <td>27.120316</td>\n",
       "    </tr>\n",
       "    <tr>\n",
       "      <th>1</th>\n",
       "      <td>75</td>\n",
       "      <td>165.0</td>\n",
       "      <td>27.548209</td>\n",
       "    </tr>\n",
       "    <tr>\n",
       "      <th>2</th>\n",
       "      <td>84</td>\n",
       "      <td>186.0</td>\n",
       "      <td>24.280264</td>\n",
       "    </tr>\n",
       "    <tr>\n",
       "      <th>3</th>\n",
       "      <td>78</td>\n",
       "      <td>NaN</td>\n",
       "      <td>NaN</td>\n",
       "    </tr>\n",
       "    <tr>\n",
       "      <th>4</th>\n",
       "      <td>48</td>\n",
       "      <td>174.0</td>\n",
       "      <td>15.854142</td>\n",
       "    </tr>\n",
       "    <tr>\n",
       "      <th>5</th>\n",
       "      <td>71</td>\n",
       "      <td>167.0</td>\n",
       "      <td>25.458066</td>\n",
       "    </tr>\n",
       "  </tbody>\n",
       "</table>\n",
       "</div>"
      ],
      "text/plain": [
       "   weight  height        BMI\n",
       "0      66   156.0  27.120316\n",
       "1      75   165.0  27.548209\n",
       "2      84   186.0  24.280264\n",
       "3      78     NaN        NaN\n",
       "4      48   174.0  15.854142\n",
       "5      71   167.0  25.458066"
      ]
     },
     "execution_count": 61,
     "metadata": {},
     "output_type": "execute_result"
    }
   ],
   "source": [
    "bmi.loc[3]=[78,np.nan,np.nan]\n",
    "bmi"
   ]
  },
  {
   "cell_type": "code",
   "execution_count": 63,
   "id": "5e3dabc1-cdac-469c-b3c1-d41151c971f1",
   "metadata": {},
   "outputs": [
    {
     "name": "stdout",
     "output_type": "stream",
     "text": [
      "<class 'pandas.core.frame.DataFrame'>\n",
      "RangeIndex: 6 entries, 0 to 5\n",
      "Data columns (total 3 columns):\n",
      " #   Column  Non-Null Count  Dtype  \n",
      "---  ------  --------------  -----  \n",
      " 0   weight  6 non-null      int64  \n",
      " 1   height  5 non-null      float64\n",
      " 2   BMI     5 non-null      float64\n",
      "dtypes: float64(2), int64(1)\n",
      "memory usage: 276.0 bytes\n"
     ]
    }
   ],
   "source": [
    "bmi.info()"
   ]
  },
  {
   "cell_type": "code",
   "execution_count": 65,
   "id": "1e3b7305-5b44-463c-8b79-6e0156aaa560",
   "metadata": {},
   "outputs": [
    {
     "data": {
      "text/plain": [
       "weight    0\n",
       "height    1\n",
       "BMI       1\n",
       "dtype: int64"
      ]
     },
     "execution_count": 65,
     "metadata": {},
     "output_type": "execute_result"
    }
   ],
   "source": [
    "bmi.isnull().sum()\n"
   ]
  },
  {
   "cell_type": "code",
   "execution_count": 67,
   "id": "9a301fdb-7a6d-4cef-b4fd-648fc6d83c72",
   "metadata": {},
   "outputs": [
    {
     "data": {
      "text/html": [
       "<div>\n",
       "<style scoped>\n",
       "    .dataframe tbody tr th:only-of-type {\n",
       "        vertical-align: middle;\n",
       "    }\n",
       "\n",
       "    .dataframe tbody tr th {\n",
       "        vertical-align: top;\n",
       "    }\n",
       "\n",
       "    .dataframe thead th {\n",
       "        text-align: right;\n",
       "    }\n",
       "</style>\n",
       "<table border=\"1\" class=\"dataframe\">\n",
       "  <thead>\n",
       "    <tr style=\"text-align: right;\">\n",
       "      <th></th>\n",
       "      <th>weight</th>\n",
       "      <th>height</th>\n",
       "      <th>BMI</th>\n",
       "    </tr>\n",
       "  </thead>\n",
       "  <tbody>\n",
       "    <tr>\n",
       "      <th>0</th>\n",
       "      <td>66</td>\n",
       "      <td>156.0</td>\n",
       "      <td>27.120316</td>\n",
       "    </tr>\n",
       "    <tr>\n",
       "      <th>1</th>\n",
       "      <td>75</td>\n",
       "      <td>165.0</td>\n",
       "      <td>27.548209</td>\n",
       "    </tr>\n",
       "    <tr>\n",
       "      <th>2</th>\n",
       "      <td>84</td>\n",
       "      <td>186.0</td>\n",
       "      <td>24.280264</td>\n",
       "    </tr>\n",
       "    <tr>\n",
       "      <th>3</th>\n",
       "      <td>78</td>\n",
       "      <td>NaN</td>\n",
       "      <td>NaN</td>\n",
       "    </tr>\n",
       "    <tr>\n",
       "      <th>4</th>\n",
       "      <td>48</td>\n",
       "      <td>174.0</td>\n",
       "      <td>15.854142</td>\n",
       "    </tr>\n",
       "    <tr>\n",
       "      <th>5</th>\n",
       "      <td>71</td>\n",
       "      <td>167.0</td>\n",
       "      <td>25.458066</td>\n",
       "    </tr>\n",
       "  </tbody>\n",
       "</table>\n",
       "</div>"
      ],
      "text/plain": [
       "   weight  height        BMI\n",
       "0      66   156.0  27.120316\n",
       "1      75   165.0  27.548209\n",
       "2      84   186.0  24.280264\n",
       "3      78     NaN        NaN\n",
       "4      48   174.0  15.854142\n",
       "5      71   167.0  25.458066"
      ]
     },
     "execution_count": 67,
     "metadata": {},
     "output_type": "execute_result"
    }
   ],
   "source": [
    "bmi['weight'] =bmi['weight'].fillna(165)\n",
    "bmi"
   ]
  },
  {
   "cell_type": "code",
   "execution_count": 69,
   "id": "44aeee34-5c3d-4c2f-a1f7-f6d033d8a5cd",
   "metadata": {},
   "outputs": [
    {
     "data": {
      "text/html": [
       "<div>\n",
       "<style scoped>\n",
       "    .dataframe tbody tr th:only-of-type {\n",
       "        vertical-align: middle;\n",
       "    }\n",
       "\n",
       "    .dataframe tbody tr th {\n",
       "        vertical-align: top;\n",
       "    }\n",
       "\n",
       "    .dataframe thead th {\n",
       "        text-align: right;\n",
       "    }\n",
       "</style>\n",
       "<table border=\"1\" class=\"dataframe\">\n",
       "  <thead>\n",
       "    <tr style=\"text-align: right;\">\n",
       "      <th></th>\n",
       "      <th>weight</th>\n",
       "      <th>height</th>\n",
       "      <th>BMI</th>\n",
       "    </tr>\n",
       "  </thead>\n",
       "  <tbody>\n",
       "    <tr>\n",
       "      <th>0</th>\n",
       "      <td>66</td>\n",
       "      <td>156.0</td>\n",
       "      <td>27.120316</td>\n",
       "    </tr>\n",
       "    <tr>\n",
       "      <th>1</th>\n",
       "      <td>75</td>\n",
       "      <td>165.0</td>\n",
       "      <td>27.548209</td>\n",
       "    </tr>\n",
       "    <tr>\n",
       "      <th>2</th>\n",
       "      <td>84</td>\n",
       "      <td>186.0</td>\n",
       "      <td>24.280264</td>\n",
       "    </tr>\n",
       "    <tr>\n",
       "      <th>3</th>\n",
       "      <td>78</td>\n",
       "      <td>78.0</td>\n",
       "      <td>NaN</td>\n",
       "    </tr>\n",
       "    <tr>\n",
       "      <th>4</th>\n",
       "      <td>48</td>\n",
       "      <td>174.0</td>\n",
       "      <td>15.854142</td>\n",
       "    </tr>\n",
       "    <tr>\n",
       "      <th>5</th>\n",
       "      <td>71</td>\n",
       "      <td>167.0</td>\n",
       "      <td>25.458066</td>\n",
       "    </tr>\n",
       "  </tbody>\n",
       "</table>\n",
       "</div>"
      ],
      "text/plain": [
       "   weight  height        BMI\n",
       "0      66   156.0  27.120316\n",
       "1      75   165.0  27.548209\n",
       "2      84   186.0  24.280264\n",
       "3      78    78.0        NaN\n",
       "4      48   174.0  15.854142\n",
       "5      71   167.0  25.458066"
      ]
     },
     "execution_count": 69,
     "metadata": {},
     "output_type": "execute_result"
    }
   ],
   "source": [
    "bmi['height'] =bmi['height'].fillna(78)\n",
    "bmi"
   ]
  },
  {
   "cell_type": "code",
   "execution_count": null,
   "id": "ff66e692-a0e1-43ed-b3ab-d0b3ce41e54a",
   "metadata": {},
   "outputs": [],
   "source": []
  }
 ],
 "metadata": {
  "kernelspec": {
   "display_name": "Python 3 (ipykernel)",
   "language": "python",
   "name": "python3"
  },
  "language_info": {
   "codemirror_mode": {
    "name": "ipython",
    "version": 3
   },
   "file_extension": ".py",
   "mimetype": "text/x-python",
   "name": "python",
   "nbconvert_exporter": "python",
   "pygments_lexer": "ipython3",
   "version": "3.12.4"
  }
 },
 "nbformat": 4,
 "nbformat_minor": 5
}
